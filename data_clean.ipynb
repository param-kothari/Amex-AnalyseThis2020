{
 "cells": [
  {
   "cell_type": "code",
   "execution_count": null,
   "metadata": {},
   "outputs": [],
   "source": [
    "import pandas as pd \n",
    "data = pd.read_csv(\"Training_Data_0611N.csv\") #data imported"
   ]
  },
  {
   "cell_type": "code",
   "execution_count": null,
   "metadata": {},
   "outputs": [],
   "source": [
    "data.head()#Head of data displayed here for reference"
   ]
  },
  {
   "cell_type": "code",
   "execution_count": null,
   "metadata": {},
   "outputs": [],
   "source": [
    "data.info() # Basic info of data that can be compared after data cleaning"
   ]
  },
  {
   "cell_type": "code",
   "execution_count": null,
   "metadata": {},
   "outputs": [],
   "source": [
    "data.dtypes #initial data types of columns for reference"
   ]
  },
  {
   "cell_type": "code",
   "execution_count": null,
   "metadata": {},
   "outputs": [],
   "source": [
    "dataTypeDict = dict(data.dtypes) #Dictionary containing column names as keys and data-types as values"
   ]
  },
  {
   "cell_type": "code",
   "execution_count": null,
   "metadata": {},
   "outputs": [],
   "source": [
    "colObj_list = []#List containing \"object\" data-type column names\n",
    "for var in dataTypeDict:\n",
    "    if dataTypeDict[var] == 'object':\n",
    "        data[var] = data[var].str.replace(',', '')\n",
    "        data[var] = data[var].str.replace(' ', '')\n",
    "        data[var] = data[var].str.replace('-', '0')\n",
    "        data[var] = data[var].str.replace('(', '-')\n",
    "        data[var] = data[var].str.replace(')', '')\n",
    "        colObj_list.append(var)\n",
    "        if (var != 'acq_sub_chn' and var!= 'acq_type_grp' and var!= 'fee_type_grp'):\n",
    "            dataTypeDict[var] = 'float'"
   ]
  },
  {
   "cell_type": "code",
   "execution_count": null,
   "metadata": {},
   "outputs": [],
   "source": [
    "data = data.astype(dataTypeDict) #Converting all numerical objects (numbers in the form of strings) \n",
    "                                #except 3 columns which contained alphabet-strings\n",
    "#NOTE: DO NOT USE dataTypeDict anymore."
   ]
  },
  {
   "cell_type": "code",
   "execution_count": null,
   "metadata": {},
   "outputs": [],
   "source": [
    "data.isnull().sum(axis=0) #Sum of NaN values in each column of the main dataframe"
   ]
  },
  {
   "cell_type": "code",
   "execution_count": null,
   "metadata": {},
   "outputs": [],
   "source": [
    "data = data.dropna() #Dataset after dropping all rows with atleast 1 NaN value\n",
    "data.isnull().sum(axis=0) #Checking how many NaN values"
   ]
  },
  {
   "cell_type": "code",
   "execution_count": null,
   "metadata": {},
   "outputs": [],
   "source": [
    "data.info() # Checking info about dataset post removing rows with NaN values"
   ]
  },
  {
   "cell_type": "code",
   "execution_count": null,
   "metadata": {},
   "outputs": [],
   "source": []
  }
 ],
 "metadata": {
  "kernelspec": {
   "display_name": "Python 3",
   "language": "python",
   "name": "python3"
  },
  "language_info": {
   "codemirror_mode": {
    "name": "ipython",
    "version": 3
   },
   "file_extension": ".py",
   "mimetype": "text/x-python",
   "name": "python",
   "nbconvert_exporter": "python",
   "pygments_lexer": "ipython3",
   "version": "3.8.3"
  }
 },
 "nbformat": 4,
 "nbformat_minor": 4
}
